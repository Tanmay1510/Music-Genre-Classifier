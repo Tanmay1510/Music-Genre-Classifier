{
  "nbformat": 4,
  "nbformat_minor": 0,
  "metadata": {
    "colab": {
      "provenance": []
    },
    "kernelspec": {
      "name": "python3",
      "display_name": "Python 3"
    },
    "language_info": {
      "name": "python"
    }
  },
  "cells": [
    {
      "cell_type": "code",
      "execution_count": null,
      "metadata": {
        "id": "-3bKiBlXjkQS"
      },
      "outputs": [],
      "source": [
        "import pandas as pd\n",
        "import numpy as np\n",
        "import os\n",
        "import IPython.display as ipd\n",
        "import librosa\n",
        "import librosa.display\n",
        "import matplotlib.pyplot as plt\n",
        "%matplotlib inline"
      ]
    },
    {
      "cell_type": "code",
      "source": [
        "from google.colab import drive\n",
        "drive.mount('/content/drive')"
      ],
      "metadata": {
        "id": "_djeLSsKfePS"
      },
      "execution_count": null,
      "outputs": []
    },
    {
      "cell_type": "code",
      "source": [
        "audio_dataset_path = \"/content/drive/MyDrive/Deep Learning Lab/DL Project/Data/genres_original\"\n",
        "metadata = pd.read_csv(\"/content/drive/MyDrive/Deep Learning Lab/DL Project/Data/features_3_sec.csv\")\n",
        "metadata.head()"
      ],
      "metadata": {
        "id": "uzvLp4q1kDkt"
      },
      "execution_count": null,
      "outputs": []
    },
    {
      "cell_type": "code",
      "source": [
        "def features_extractor(file):\n",
        "  audio, sample_rate = librosa. load(file_name, res_type='kaiser_fast')\n",
        "  mfccs_features = librosa. feature.mfcc(y=audio, sr=sample_rate, n_mfcc=40)\n",
        "  mfccs_scaled_features = np.mean(mfccs_features.T,axis=0)\n",
        "\n",
        "  return mfccs_scaled_features"
      ],
      "metadata": {
        "id": "L2LABVOakOMz"
      },
      "execution_count": null,
      "outputs": []
    },
    {
      "cell_type": "code",
      "source": [
        "metadata.drop(labels=552, axis=0, inplace=True)"
      ],
      "metadata": {
        "id": "Uxf1l-JRqaLh"
      },
      "execution_count": null,
      "outputs": []
    },
    {
      "cell_type": "code",
      "source": [
        "from tqdm import tqdm\n",
        "### Now we iterate through every audio file and extract features\n",
        "### using Mel-Frequency Cepstral Coefficients\n",
        "\n",
        "extracted_features=[]\n",
        "for index_num, row in tqdm(metadata.iterrows()):\n",
        "    try:\n",
        "        final_class_labels=row[\"label\"]\n",
        "        file_name = os.path.join(os.path.abspath(audio_dataset_path), final_class_labels+'/',str(row[\"filename\"]))\n",
        "        data=features_extractor(file_name)\n",
        "        extracted_features.append([data, final_class_labels])\n",
        "    except Exception as e:\n",
        "        print(f\"Error: {e}\")\n",
        "        continue"
      ],
      "metadata": {
        "id": "nIrwu6yiqb_U"
      },
      "execution_count": null,
      "outputs": []
    },
    {
      "cell_type": "code",
      "source": [
        "extracted_features_df=pd.DataFrame(extracted_features, columns=['feature', 'class'])\n",
        "extracted_features_df.head()"
      ],
      "metadata": {
        "id": "PdTMJiDxqt9M"
      },
      "execution_count": null,
      "outputs": []
    },
    {
      "cell_type": "code",
      "source": [
        "extracted_features_df ['class' ]. value_counts ()"
      ],
      "metadata": {
        "id": "qBy0vhwSrCWc"
      },
      "execution_count": null,
      "outputs": []
    },
    {
      "cell_type": "code",
      "source": [
        "X=np.array(extracted_features_df['feature']. tolist ())\n",
        "y=np.array(extracted_features_df['class'].tolist())"
      ],
      "metadata": {
        "id": "852ZikQPrQZ8"
      },
      "execution_count": null,
      "outputs": []
    },
    {
      "cell_type": "code",
      "source": [
        "X. shape"
      ],
      "metadata": {
        "id": "C1x2QGFvrVq8"
      },
      "execution_count": null,
      "outputs": []
    },
    {
      "cell_type": "code",
      "source": [
        "from tensorflow.keras.utils import to_categorical\n",
        "from sklearn.preprocessing import LabelEncoder\n",
        "labelencoder=LabelEncoder()\n",
        "y=to_categorical(labelencoder.fit_transform(y))"
      ],
      "metadata": {
        "id": "NxY0b9nFrYtk"
      },
      "execution_count": null,
      "outputs": []
    },
    {
      "cell_type": "code",
      "source": [
        "y. shape"
      ],
      "metadata": {
        "id": "XEhIuzQ5raZ_"
      },
      "execution_count": null,
      "outputs": []
    },
    {
      "cell_type": "code",
      "source": [
        "from sklearn.model_selection import train_test_split\n",
        "X_train,X_test,y_train,y_test=train_test_split(X,y,test_size=0.2,random_state=0)"
      ],
      "metadata": {
        "id": "KjzV444xrchH"
      },
      "execution_count": null,
      "outputs": []
    },
    {
      "cell_type": "code",
      "source": [
        "from tensorflow.keras.models import Sequential\n",
        "from tensorflow.keras.layers import Dense, Dropout, Activation, Flatten\n",
        "from tensorflow.keras.optimizers import Adam\n",
        "from sklearn import metrics"
      ],
      "metadata": {
        "id": "yDZdpHTfr0D8"
      },
      "execution_count": null,
      "outputs": []
    },
    {
      "cell_type": "code",
      "source": [
        "num_labels=y. shape[1]"
      ],
      "metadata": {
        "id": "cFs3Pw7er1vb"
      },
      "execution_count": null,
      "outputs": []
    },
    {
      "cell_type": "code",
      "source": [
        "y. shape [1]"
      ],
      "metadata": {
        "id": "VqM-ZdDZr4iy"
      },
      "execution_count": null,
      "outputs": []
    },
    {
      "cell_type": "code",
      "source": [
        "model=Sequential()\n",
        "model.add(Dense(1024,input_shape=(40,), activation=\"relu\"))\n",
        "model.add(Dropout(0.3))\n",
        "model.add(Dense(512, activation=\"relu\"))\n",
        "model.add(Dropout(0.3))\n",
        "model.add(Dense(256, activation=\"relu\"))\n",
        "model.add(Dropout(0.3))\n",
        "model.add(Dense(128, activation=\"relu\"))\n",
        "model.add(Dropout(0.3))\n",
        "model.add(Dense(64, activation=\"relu\"))\n",
        "model.add(Dropout(0.3))\n",
        "model.add(Dense(32, activation=\"relu\"))\n",
        "model.add(Dropout(0.3))\n",
        "\n",
        "###final layer\n",
        "model.add(Dense(num_labels, activation=\"softmax\") )"
      ],
      "metadata": {
        "id": "o5q97Fnor6kc"
      },
      "execution_count": null,
      "outputs": []
    },
    {
      "cell_type": "code",
      "source": [
        "model.summary()"
      ],
      "metadata": {
        "id": "3sMbjmDrr_Yc"
      },
      "execution_count": null,
      "outputs": []
    },
    {
      "cell_type": "code",
      "source": [
        "model.compile(loss='categorical_crossentropy' , metrics=['accuracy' ], optimizer='adam' )"
      ],
      "metadata": {
        "id": "O5QQpDKZsAmJ"
      },
      "execution_count": null,
      "outputs": []
    },
    {
      "cell_type": "code",
      "source": [
        "from tensorflow.keras.callbacks import ModelCheckpoint\n",
        "from datetime import datetime\n",
        "\n",
        "num_epochs = 100\n",
        "num_batch_size = 32\n",
        "\n",
        "start = datetime.now()\n",
        "\n",
        "history = model.fit(X_train, y_train, batch_size=num_batch_size, epochs=num_epochs, validation_data=(X_test, y_test), callbacks=[checkpointer], verbose=1)"
      ],
      "metadata": {
        "id": "FNRV8er_tbQu"
      },
      "execution_count": null,
      "outputs": []
    },
    {
      "cell_type": "code",
      "source": [
        "train_acc = history.history['accuracy'][-1]\n",
        "val_acc = history.history['val_accuracy'][-1]\n",
        "\n",
        "print(f\"Final Training Accuracy: {train_acc * 100:.2f}%\")\n",
        "print(f\"Final Validation Accuracy: {val_acc * 100:.2f}%\")"
      ],
      "metadata": {
        "id": "VgvWmuGV7C8N"
      },
      "execution_count": null,
      "outputs": []
    },
    {
      "cell_type": "code",
      "source": [
        "model.evaluate(X_test,y_test, verbose=0)"
      ],
      "metadata": {
        "id": "t_9YrMxMtpDQ"
      },
      "execution_count": null,
      "outputs": []
    },
    {
      "cell_type": "code",
      "source": [
        "import matplotlib.pyplot as plt\n",
        "\n",
        "# Plot Loss\n",
        "plt.figure(figsize=(10, 5))\n",
        "plt.plot(history.history['loss'], label='Training Loss', color='blue')\n",
        "plt.plot(history.history['val_loss'], label='Validation Loss', color='red')\n",
        "plt.title('Model Loss over Epochs')\n",
        "plt.xlabel('Epochs')\n",
        "plt.ylabel('Loss')\n",
        "plt.legend()\n",
        "plt.grid(True)\n",
        "plt.show()\n"
      ],
      "metadata": {
        "id": "tBOGnoPGt8ZG"
      },
      "execution_count": null,
      "outputs": []
    },
    {
      "cell_type": "code",
      "source": [
        "# Plot Accuracy\n",
        "plt.figure(figsize=(10, 5))\n",
        "plt.plot(history.history['accuracy'], label='Training Accuracy', color='green')\n",
        "plt.plot(history.history['val_accuracy'], label='Validation Accuracy', color='orange')\n",
        "plt.title('Model Accuracy over Epochs')\n",
        "plt.xlabel('Epochs')\n",
        "plt.ylabel('Accuracy')\n",
        "plt.legend()\n",
        "plt.grid(True)\n",
        "plt.show()\n"
      ],
      "metadata": {
        "id": "CJHiAyx-6eoP"
      },
      "execution_count": null,
      "outputs": []
    },
    {
      "cell_type": "code",
      "source": [
        "# Get the predicted probabilities\n",
        "predicted_probabilities = model.predict(X_test)\n",
        "\n",
        "# Get the predicted class index for each sample\n",
        "predicted_classes = np.argmax(predicted_probabilities, axis=1)\n",
        "\n",
        "# Print the predicted classes\n",
        "print(predicted_classes)"
      ],
      "metadata": {
        "id": "C0YuPFeut_Fu"
      },
      "execution_count": null,
      "outputs": []
    },
    {
      "cell_type": "code",
      "source": [
        "filename=\"/content/drive/MyDrive/Deep Learning Lab/DL Project/Data/genres_original/jazz/jazz.00000.wav\"\n",
        "audio, sample_rate = librosa. load(filename, res_type='kaiser_fast')\n",
        "mfccs_features = librosa. feature.mfcc(y=audio, sr=sample_rate, n_mfcc=40)\n",
        "mfccs_scaled_features = np.mean(mfccs_features.T,axis=0)\n",
        "\n",
        "print(mfccs_scaled_features)\n",
        "mfccs_scaled_features=mfccs_scaled_features. reshape(1,-1)\n",
        "print (mfccs_scaled_features)\n",
        "print(mfccs_scaled_features.shape)\n",
        "\n",
        "# Get the predicted probabilities\n",
        "predicted_probabilities = model.predict(mfccs_scaled_features)\n",
        "\n",
        "# Get the predicted class index\n",
        "predicted_label = np.argmax(predicted_probabilities, axis=1) # Get the index of the class with highest probability\n",
        "print (predicted_label)\n",
        "\n",
        "prediction_class = labelencoder.inverse_transform(predicted_label)\n",
        "prediction_class"
      ],
      "metadata": {
        "id": "z4KjuS52uPhu"
      },
      "execution_count": null,
      "outputs": []
    },
    {
      "cell_type": "code",
      "source": [
        "import pickle\n",
        "\n",
        "with open('/content/drive/MyDrive/Deep Learning Lab/DL Project/label_encoder.pkl', 'wb') as f:\n",
        "    pickle.dump(labelencoder, f)"
      ],
      "metadata": {
        "id": "taWG7_sGua1P"
      },
      "execution_count": null,
      "outputs": []
    },
    {
      "cell_type": "code",
      "source": [
        "model.save(\"/content/drive/MyDrive/Deep Learning Lab/DL Project/best_model.h5\")"
      ],
      "metadata": {
        "id": "4u37sZQHwwxy"
      },
      "execution_count": null,
      "outputs": []
    },
    {
      "cell_type": "code",
      "source": [],
      "metadata": {
        "id": "bJnLemEm4PvA"
      },
      "execution_count": null,
      "outputs": []
    }
  ]
}